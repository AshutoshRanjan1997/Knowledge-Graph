{
  "nbformat": 4,
  "nbformat_minor": 0,
  "metadata": {
    "colab": {
      "name": "Knowledge Graph",
      "provenance": []
    },
    "kernelspec": {
      "name": "python3",
      "display_name": "Python 3"
    },
    "language_info": {
      "name": "python"
    }
  },
  "cells": [
    {
      "cell_type": "markdown",
      "metadata": {
        "id": "VBuyswo3MAca"
      },
      "source": [
        "**Building a demo knowledge graph on wikidata using spacey library**\n"
      ]
    },
    {
      "cell_type": "markdown",
      "metadata": {
        "id": "qR0jxhAEMR4g"
      },
      "source": [
        "**Loading dependencies**"
      ]
    },
    {
      "cell_type": "code",
      "metadata": {
        "id": "0t8aePPAK0CG"
      },
      "source": [
        "import re\n",
        "import pandas as pd\n",
        "import bs4   #To read the data from the website hence using beautiful soup\n",
        "import requests\n",
        "import spacy\n",
        "from spacy import displacy\n",
        "nlp = spacy.load('en_core_web_sm')\n",
        "\n",
        "from spacy.matcher import Matcher \n",
        "from spacy.tokens import Span \n",
        "\n",
        "import networkx as nx\n",
        "\n",
        "import matplotlib.pyplot as plt\n",
        "from tqdm import tqdm\n",
        "\n",
        "pd.set_option('display.max_colwidth', 200)\n",
        "%matplotlib inline"
      ],
      "execution_count": 3,
      "outputs": []
    },
    {
      "cell_type": "markdown",
      "metadata": {
        "id": "FjlUfSq4SFcR"
      },
      "source": [
        "**Loading data from google drive**"
      ]
    },
    {
      "cell_type": "code",
      "metadata": {
        "colab": {
          "base_uri": "https://localhost:8080/"
        },
        "id": "cxYl50OCMzSr",
        "outputId": "c0c1ceba-2b70-4e8c-c435-852731b98ce1"
      },
      "source": [
        "from google.colab import drive\n",
        "drive.mount('/content/drive')\n",
        "dataset = pd.read_csv('/content/drive/MyDrive/model.csv', na_values='?') \n",
        "dataset = dataset.reset_index(drop=True)"
      ],
      "execution_count": 9,
      "outputs": [
        {
          "output_type": "stream",
          "text": [
            "Drive already mounted at /content/drive; to attempt to forcibly remount, call drive.mount(\"/content/drive\", force_remount=True).\n"
          ],
          "name": "stdout"
        }
      ]
    },
    {
      "cell_type": "code",
      "metadata": {
        "colab": {
          "base_uri": "https://localhost:8080/",
          "height": 402
        },
        "id": "OdpIyQK4Zjkg",
        "outputId": "2afc0113-20a5-4d0d-ae0a-a8aa59af277f"
      },
      "source": [
        "dataset"
      ],
      "execution_count": 10,
      "outputs": [
        {
          "output_type": "execute_result",
          "data": {
            "text/html": [
              "<div>\n",
              "<style scoped>\n",
              "    .dataframe tbody tr th:only-of-type {\n",
              "        vertical-align: middle;\n",
              "    }\n",
              "\n",
              "    .dataframe tbody tr th {\n",
              "        vertical-align: top;\n",
              "    }\n",
              "\n",
              "    .dataframe thead th {\n",
              "        text-align: right;\n",
              "    }\n",
              "</style>\n",
              "<table border=\"1\" class=\"dataframe\">\n",
              "  <thead>\n",
              "    <tr style=\"text-align: right;\">\n",
              "      <th></th>\n",
              "      <th>sentence</th>\n",
              "    </tr>\n",
              "  </thead>\n",
              "  <tbody>\n",
              "    <tr>\n",
              "      <th>0</th>\n",
              "      <td>confused and frustrated, connie decides to leave on her own.</td>\n",
              "    </tr>\n",
              "    <tr>\n",
              "      <th>1</th>\n",
              "      <td>later, a woman’s scream is heard in the distance.</td>\n",
              "    </tr>\n",
              "    <tr>\n",
              "      <th>2</th>\n",
              "      <td>christian is then paralyzed by an elder.</td>\n",
              "    </tr>\n",
              "    <tr>\n",
              "      <th>3</th>\n",
              "      <td>the temple is set on fire.</td>\n",
              "    </tr>\n",
              "    <tr>\n",
              "      <th>4</th>\n",
              "      <td>outside, the cult wails with him.</td>\n",
              "    </tr>\n",
              "    <tr>\n",
              "      <th>...</th>\n",
              "      <td>...</td>\n",
              "    </tr>\n",
              "    <tr>\n",
              "      <th>4313</th>\n",
              "      <td>confidencial also responded negatively, calling the film a barren drama, unsubtle and self-indulgent.</td>\n",
              "    </tr>\n",
              "    <tr>\n",
              "      <th>4314</th>\n",
              "      <td>and le parisien gave the film their highest five-star rating.</td>\n",
              "    </tr>\n",
              "    <tr>\n",
              "      <th>4315</th>\n",
              "      <td>the museum collection includes 37,000 film titles, 60,000 posters, 700,000 photographs and 20,000 books.</td>\n",
              "    </tr>\n",
              "    <tr>\n",
              "      <th>4316</th>\n",
              "      <td>its predecessor was the dutch historical film archive, founded in 1946.</td>\n",
              "    </tr>\n",
              "    <tr>\n",
              "      <th>4317</th>\n",
              "      <td>, 1920'sfilmstar greta garbo by alexander binder,</td>\n",
              "    </tr>\n",
              "  </tbody>\n",
              "</table>\n",
              "<p>4318 rows × 1 columns</p>\n",
              "</div>"
            ],
            "text/plain": [
              "                                                                                                      sentence\n",
              "0                                                 confused and frustrated, connie decides to leave on her own.\n",
              "1                                                            later, a woman’s scream is heard in the distance.\n",
              "2                                                                     christian is then paralyzed by an elder.\n",
              "3                                                                                   the temple is set on fire.\n",
              "4                                                                            outside, the cult wails with him.\n",
              "...                                                                                                        ...\n",
              "4313     confidencial also responded negatively, calling the film a barren drama, unsubtle and self-indulgent.\n",
              "4314                                             and le parisien gave the film their highest five-star rating.\n",
              "4315  the museum collection includes 37,000 film titles, 60,000 posters, 700,000 photographs and 20,000 books.\n",
              "4316                                   its predecessor was the dutch historical film archive, founded in 1946.\n",
              "4317                                                         , 1920'sfilmstar greta garbo by alexander binder,\n",
              "\n",
              "[4318 rows x 1 columns]"
            ]
          },
          "metadata": {
            "tags": []
          },
          "execution_count": 10
        }
      ]
    },
    {
      "cell_type": "code",
      "metadata": {
        "colab": {
          "base_uri": "https://localhost:8080/"
        },
        "id": "-KSOCKl1Zpn7",
        "outputId": "621d75fe-ba74-48c9-c3c7-75d160ce46b3"
      },
      "source": [
        "dataset['sentence'].sample(1)"
      ],
      "execution_count": 11,
      "outputs": [
        {
          "output_type": "execute_result",
          "data": {
            "text/plain": [
              "2435    kanchivaram  was selected to be premiered at the toronto international film festival.\n",
              "Name: sentence, dtype: object"
            ]
          },
          "metadata": {
            "tags": []
          },
          "execution_count": 11
        }
      ]
    },
    {
      "cell_type": "markdown",
      "metadata": {
        "id": "TeRzZAt_buuB"
      },
      "source": [
        "**Extracting sentence having only one subject and one predicate. The below example shows that in a single sentence what is a subject and what is an object and how to extract data dependencies using nlp library**"
      ]
    },
    {
      "cell_type": "code",
      "metadata": {
        "colab": {
          "base_uri": "https://localhost:8080/"
        },
        "id": "qixuJ5iLbj0P",
        "outputId": "75f9a21b-7808-47ec-8afe-9f8e483897e6"
      },
      "source": [
        "sentences = nlp(\"Walmart is a good company for working\")\n",
        "for words in sentences:\n",
        "  print(words.text,\".....\",words.dep_)"
      ],
      "execution_count": 13,
      "outputs": [
        {
          "output_type": "stream",
          "text": [
            "Walmart ..... nsubj\n",
            "is ..... ROOT\n",
            "a ..... det\n",
            "good ..... amod\n",
            "company ..... attr\n",
            "for ..... prep\n",
            "working ..... pcomp\n"
          ],
          "name": "stdout"
        }
      ]
    },
    {
      "cell_type": "markdown",
      "metadata": {
        "id": "s6fMUwp9ejcd"
      },
      "source": [
        "**In this function what we are doing is that for each sentence we are finding the subject and object and returning that. Also we can see that most of the sentences might be combined words so we are looking into that too.**"
      ]
    },
    {
      "cell_type": "code",
      "metadata": {
        "id": "j58T_MzCco_A"
      },
      "source": [
        "def get_entities(sent):\n",
        "  entity1 = \"\"\n",
        "  entity2 = \"\"\n",
        "  previous_dependency = \"\"   \n",
        "  previous_text = \"\"   \n",
        "  prefix = \"\"\n",
        "  modifier = \"\"\n",
        "  i = 0\n",
        "  while(i<len(nlp(sent))):\n",
        "    token = nlp(sent)[i]\n",
        "    if token.dep_ != \"punct\":\n",
        "      if token.dep_ == \"compound\":\n",
        "        prefix = token.text\n",
        "        if previous_dependency== \"compound\":\n",
        "          prefix = previous_text + \" \"+ token.text\n",
        "      if token.dep_.endswith(\"mod\") == True:\n",
        "        modifier = token.text\n",
        "        if previous_dependency == \"compound\":\n",
        "          modifier = previous_text + \" \"+ token.text\n",
        "      if token.dep_.find(\"subj\") == True:\n",
        "        entity1 = modifier +\" \"+ prefix + \" \"+ token.text\n",
        "        prefix = \"\"\n",
        "        modifier = \"\"\n",
        "        previous_dependency = \"\"\n",
        "        previous_text = \"\"      \n",
        "      if token.dep_.find(\"obj\") == True:\n",
        "        entity2 = modifier +\" \"+ prefix +\" \"+ token.text\n",
        "      previous_dependency = token.dep_\n",
        "      previous_text = token.text\n",
        "      i = i+1\n",
        "  return [entity1.strip(), entity2.strip()] #to remove end spaces"
      ],
      "execution_count": 21,
      "outputs": []
    },
    {
      "cell_type": "markdown",
      "metadata": {
        "id": "DrmPbfwBfXLS"
      },
      "source": [
        "**Testing get_entities function**"
      ]
    },
    {
      "cell_type": "code",
      "metadata": {
        "colab": {
          "base_uri": "https://localhost:8080/"
        },
        "id": "b-MLUBS9ehyS",
        "outputId": "72f5f18c-03ec-42df-c11c-a4a5cc6076de"
      },
      "source": [
        "get_entities(\"My Name is Khan\")\n",
        "get_entities(\"The film has 200 patents\")"
      ],
      "execution_count": 22,
      "outputs": [
        {
          "output_type": "execute_result",
          "data": {
            "text/plain": [
              "['film', '200  patents']"
            ]
          },
          "metadata": {
            "tags": []
          },
          "execution_count": 22
        }
      ]
    }
  ]
}